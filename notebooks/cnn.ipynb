{
 "cells": [
  {
   "cell_type": "code",
   "execution_count": 1,
   "metadata": {
    "collapsed": true
   },
   "outputs": [],
   "source": [
    "%load_ext autoreload\n",
    "%autoreload 2"
   ]
  },
  {
   "cell_type": "code",
   "execution_count": 2,
   "metadata": {},
   "outputs": [
    {
     "name": "stderr",
     "output_type": "stream",
     "text": [
      "Using TensorFlow backend.\n"
     ]
    }
   ],
   "source": [
    "import numpy as np\n",
    "from keras.models import Model\n",
    "from keras.layers import Input, Dense, Reshape, Flatten\n",
    "from keras.layers import Conv2D, MaxPooling2D, GlobalAveragePooling2D"
   ]
  },
  {
   "cell_type": "code",
   "execution_count": 3,
   "metadata": {
    "collapsed": true
   },
   "outputs": [],
   "source": [
    "from keras.optimizers import Adam\n",
    "from keras.callbacks import ModelCheckpoint\n",
    "from keras.callbacks import ReduceLROnPlateau"
   ]
  },
  {
   "cell_type": "code",
   "execution_count": 4,
   "metadata": {},
   "outputs": [],
   "source": [
    "train_data = np.load('../data/train_data.npz')\n",
    "X_train, y_train = train_data['images']/255, train_data['labels']"
   ]
  },
  {
   "cell_type": "code",
   "execution_count": 11,
   "metadata": {},
   "outputs": [],
   "source": [
    "_input = Input(shape=(224, 224, 3))\n",
    "blk1_conv1 = Conv2D(16, kernel_size=(3, 3), padding='same',\n",
    "                    activation='relu')(_input)\n",
    "blk1_conv2 = Conv2D(16, kernel_size=(3, 3), padding='same',\n",
    "                    activation='relu')(blk1_conv1)\n",
    "max_pool1 = MaxPooling2D(pool_size=(2, 2))(blk1_conv2)\n",
    "blk2_conv1 = Conv2D(32, kernel_size=(3, 3), padding='same',\n",
    "                    activation='relu')(max_pool1)\n",
    "blk2_conv2 = Conv2D(32, kernel_size=(3, 3), padding='same',\n",
    "                    activation='relu')(blk2_conv1)\n",
    "max_pool2 = MaxPooling2D(pool_size=(2, 2))(blk2_conv2)\n",
    "blk3_conv1 = Conv2D(64, kernel_size=(3, 3), padding='same',\n",
    "                    activation='relu')(max_pool2)\n",
    "blk3_conv2 = Conv2D(64, kernel_size=(3, 3), padding='same',\n",
    "                    activation='relu')(blk3_conv1)\n",
    "blk3_conv3 = Conv2D(64, kernel_size=(3, 3), padding='same',\n",
    "                    activation='relu')(blk3_conv2)\n",
    "max_pool3 = MaxPooling2D(pool_size=(2, 2))(blk3_conv3)\n",
    "blk4_conv1 = Conv2D(128, kernel_size=(3, 3), padding='same',\n",
    "                    activation='relu')(max_pool3)\n",
    "blk4_conv2 = Conv2D(128, kernel_size=(3, 3), padding='same',\n",
    "                    activation='relu')(blk4_conv1)\n",
    "blk4_conv3 = Conv2D(128, kernel_size=(3, 3), padding='same',\n",
    "                    activation='relu')(blk4_conv2)\n",
    "max_pool4 = MaxPooling2D(pool_size=(2, 2))(blk4_conv3)\n",
    "_flatten = Flatten()(max_pool4)\n",
    "fc1 = Dense(1024, activation='relu')(_flatten)\n",
    "fc2 = Dense(1024, activation='relu')(fc1)\n",
    "_output = Dense(1, activation='sigmoid')(fc2)\n",
    "\n",
    "model = Model(inputs=[_input], outputs=[_output])"
   ]
  },
  {
   "cell_type": "code",
   "execution_count": 12,
   "metadata": {},
   "outputs": [
    {
     "name": "stdout",
     "output_type": "stream",
     "text": [
      "_________________________________________________________________\n",
      "Layer (type)                 Output Shape              Param #   \n",
      "=================================================================\n",
      "input_3 (InputLayer)         (None, 224, 224, 3)       0         \n",
      "_________________________________________________________________\n",
      "conv2d_21 (Conv2D)           (None, 224, 224, 16)      448       \n",
      "_________________________________________________________________\n",
      "conv2d_22 (Conv2D)           (None, 224, 224, 16)      2320      \n",
      "_________________________________________________________________\n",
      "max_pooling2d_9 (MaxPooling2 (None, 112, 112, 16)      0         \n",
      "_________________________________________________________________\n",
      "conv2d_23 (Conv2D)           (None, 112, 112, 32)      4640      \n",
      "_________________________________________________________________\n",
      "conv2d_24 (Conv2D)           (None, 112, 112, 32)      9248      \n",
      "_________________________________________________________________\n",
      "max_pooling2d_10 (MaxPooling (None, 56, 56, 32)        0         \n",
      "_________________________________________________________________\n",
      "conv2d_25 (Conv2D)           (None, 56, 56, 64)        18496     \n",
      "_________________________________________________________________\n",
      "conv2d_26 (Conv2D)           (None, 56, 56, 64)        36928     \n",
      "_________________________________________________________________\n",
      "conv2d_27 (Conv2D)           (None, 56, 56, 64)        36928     \n",
      "_________________________________________________________________\n",
      "max_pooling2d_11 (MaxPooling (None, 28, 28, 64)        0         \n",
      "_________________________________________________________________\n",
      "conv2d_28 (Conv2D)           (None, 28, 28, 128)       73856     \n",
      "_________________________________________________________________\n",
      "conv2d_29 (Conv2D)           (None, 28, 28, 128)       147584    \n",
      "_________________________________________________________________\n",
      "conv2d_30 (Conv2D)           (None, 28, 28, 128)       147584    \n",
      "_________________________________________________________________\n",
      "max_pooling2d_12 (MaxPooling (None, 14, 14, 128)       0         \n",
      "_________________________________________________________________\n",
      "flatten_3 (Flatten)          (None, 25088)             0         \n",
      "_________________________________________________________________\n",
      "dense_7 (Dense)              (None, 1024)              25691136  \n",
      "_________________________________________________________________\n",
      "dense_8 (Dense)              (None, 1024)              1049600   \n",
      "_________________________________________________________________\n",
      "dense_9 (Dense)              (None, 1)                 1025      \n",
      "=================================================================\n",
      "Total params: 27,219,793\n",
      "Trainable params: 27,219,793\n",
      "Non-trainable params: 0\n",
      "_________________________________________________________________\n"
     ]
    }
   ],
   "source": [
    "model.summary()"
   ]
  },
  {
   "cell_type": "code",
   "execution_count": 13,
   "metadata": {},
   "outputs": [],
   "source": [
    "optimizer = Adam(lr=0.00025)\n",
    "model.compile(optimizer=optimizer,\n",
    "              loss='binary_crossentropy',\n",
    "              metrics=['accuracy']\n",
    "             )"
   ]
  },
  {
   "cell_type": "code",
   "execution_count": 14,
   "metadata": {},
   "outputs": [
    {
     "name": "stdout",
     "output_type": "stream",
     "text": [
      "Train on 1836 samples, validate on 459 samples\n",
      "Epoch 1/50\n",
      "1836/1836 [==============================] - 41s - loss: 0.6581 - acc: 0.6209 - val_loss: 0.5061 - val_acc: 0.7560\n",
      "Epoch 2/50\n",
      "1836/1836 [==============================] - 41s - loss: 0.5771 - acc: 0.6961 - val_loss: 0.5649 - val_acc: 0.7625\n",
      "Epoch 3/50\n",
      "1836/1836 [==============================] - 41s - loss: 0.4405 - acc: 0.7941 - val_loss: 0.3194 - val_acc: 0.8715\n",
      "Epoch 4/50\n",
      "1836/1836 [==============================] - 41s - loss: 0.3754 - acc: 0.8475 - val_loss: 0.2808 - val_acc: 0.8998\n",
      "Epoch 5/50\n",
      "1836/1836 [==============================] - 41s - loss: 0.3727 - acc: 0.8350 - val_loss: 0.3211 - val_acc: 0.8780\n",
      "Epoch 6/50\n",
      "1836/1836 [==============================] - 41s - loss: 0.2799 - acc: 0.8829 - val_loss: 0.1890 - val_acc: 0.9303\n",
      "Epoch 7/50\n",
      "1836/1836 [==============================] - 41s - loss: 0.2075 - acc: 0.9194 - val_loss: 0.1942 - val_acc: 0.9216\n",
      "Epoch 8/50\n",
      "1836/1836 [==============================] - 41s - loss: 0.1679 - acc: 0.9336 - val_loss: 0.1794 - val_acc: 0.9346\n",
      "Epoch 9/50\n",
      "1836/1836 [==============================] - 41s - loss: 0.1353 - acc: 0.9477 - val_loss: 0.1892 - val_acc: 0.9325\n",
      "Epoch 10/50\n",
      "1836/1836 [==============================] - 41s - loss: 0.1117 - acc: 0.9602 - val_loss: 0.2277 - val_acc: 0.9303\n",
      "Epoch 11/50\n",
      "1836/1836 [==============================] - 41s - loss: 0.0977 - acc: 0.9673 - val_loss: 0.1746 - val_acc: 0.9390\n",
      "Epoch 12/50\n",
      "1836/1836 [==============================] - 41s - loss: 0.0744 - acc: 0.9749 - val_loss: 0.1912 - val_acc: 0.9129\n",
      "Epoch 13/50\n",
      "1836/1836 [==============================] - 41s - loss: 0.0744 - acc: 0.9722 - val_loss: 0.1787 - val_acc: 0.9325\n",
      "Epoch 14/50\n",
      "1836/1836 [==============================] - 41s - loss: 0.0297 - acc: 0.9907 - val_loss: 0.3122 - val_acc: 0.9281\n",
      "Epoch 15/50\n",
      "1836/1836 [==============================] - 41s - loss: 0.0170 - acc: 0.9962 - val_loss: 0.5131 - val_acc: 0.9237\n",
      "Epoch 16/50\n",
      "1836/1836 [==============================] - 41s - loss: 0.0493 - acc: 0.9820 - val_loss: 0.1462 - val_acc: 0.9499\n",
      "Epoch 17/50\n",
      "1836/1836 [==============================] - 41s - loss: 0.0293 - acc: 0.9913 - val_loss: 0.2183 - val_acc: 0.9434\n",
      "Epoch 18/50\n",
      "1836/1836 [==============================] - 41s - loss: 0.0153 - acc: 0.9951 - val_loss: 0.2878 - val_acc: 0.9455\n",
      "Epoch 19/50\n",
      "1836/1836 [==============================] - 41s - loss: 0.0081 - acc: 0.9984 - val_loss: 0.3012 - val_acc: 0.9455\n",
      "Epoch 20/50\n",
      "1836/1836 [==============================] - 41s - loss: 0.0183 - acc: 0.9935 - val_loss: 0.2520 - val_acc: 0.9390\n",
      "Epoch 21/50\n",
      "1836/1836 [==============================] - 41s - loss: 0.0253 - acc: 0.9918 - val_loss: 0.2106 - val_acc: 0.9412\n",
      "Epoch 22/50\n",
      "1836/1836 [==============================] - 41s - loss: 0.0111 - acc: 0.9956 - val_loss: 0.3234 - val_acc: 0.9455\n",
      "Epoch 23/50\n",
      "1836/1836 [==============================] - 41s - loss: 0.1452 - acc: 0.9493 - val_loss: 0.2459 - val_acc: 0.9172\n",
      "Epoch 24/50\n",
      "1836/1836 [==============================] - 41s - loss: 0.0279 - acc: 0.9897 - val_loss: 0.3902 - val_acc: 0.9172\n",
      "Epoch 25/50\n",
      "1836/1836 [==============================] - 41s - loss: 0.0126 - acc: 0.9956 - val_loss: 0.4464 - val_acc: 0.9412\n",
      "Epoch 26/50\n",
      "1836/1836 [==============================] - 41s - loss: 0.0010 - acc: 0.9995 - val_loss: 0.4369 - val_acc: 0.9412\n",
      "Epoch 27/50\n",
      "1820/1836 [============================>.] - ETA: 0s - loss: 1.3273e-04 - acc: 1.0000\n",
      "Epoch 00026: reducing learning rate to 5.0000002374872565e-05.\n",
      "1836/1836 [==============================] - 41s - loss: 1.3176e-04 - acc: 1.0000 - val_loss: 0.4740 - val_acc: 0.9390\n",
      "Epoch 28/50\n",
      "1836/1836 [==============================] - 41s - loss: 1.0252e-04 - acc: 1.0000 - val_loss: 0.4600 - val_acc: 0.9434\n",
      "Epoch 29/50\n",
      "1836/1836 [==============================] - 41s - loss: 5.5260e-05 - acc: 1.0000 - val_loss: 0.4534 - val_acc: 0.9434\n",
      "Epoch 30/50\n",
      "1836/1836 [==============================] - 41s - loss: 4.0412e-05 - acc: 1.0000 - val_loss: 0.4508 - val_acc: 0.9434\n",
      "Epoch 31/50\n",
      "1836/1836 [==============================] - 41s - loss: 3.2591e-05 - acc: 1.0000 - val_loss: 0.4495 - val_acc: 0.9477\n",
      "Epoch 32/50\n",
      "1836/1836 [==============================] - 41s - loss: 2.7308e-05 - acc: 1.0000 - val_loss: 0.4491 - val_acc: 0.9477\n",
      "Epoch 33/50\n",
      "1836/1836 [==============================] - 41s - loss: 2.3554e-05 - acc: 1.0000 - val_loss: 0.4489 - val_acc: 0.9477\n",
      "Epoch 34/50\n",
      "1836/1836 [==============================] - 41s - loss: 2.0679e-05 - acc: 1.0000 - val_loss: 0.4491 - val_acc: 0.9477\n",
      "Epoch 35/50\n",
      "1836/1836 [==============================] - 41s - loss: 1.8362e-05 - acc: 1.0000 - val_loss: 0.4494 - val_acc: 0.9455\n",
      "Epoch 36/50\n",
      "1836/1836 [==============================] - 41s - loss: 1.6513e-05 - acc: 1.0000 - val_loss: 0.4501 - val_acc: 0.9477\n",
      "Epoch 37/50\n",
      "1820/1836 [============================>.] - ETA: 0s - loss: 1.4515e-05 - acc: 1.0000\n",
      "Epoch 00036: reducing learning rate to 1.0000000474974514e-05.\n",
      "1836/1836 [==============================] - 41s - loss: 1.4885e-05 - acc: 1.0000 - val_loss: 0.4510 - val_acc: 0.9499\n",
      "Epoch 38/50\n",
      "1836/1836 [==============================] - 41s - loss: 1.3746e-05 - acc: 1.0000 - val_loss: 0.4510 - val_acc: 0.9499\n",
      "Epoch 39/50\n",
      "1836/1836 [==============================] - 41s - loss: 1.3483e-05 - acc: 1.0000 - val_loss: 0.4512 - val_acc: 0.9499\n",
      "Epoch 40/50\n",
      "1836/1836 [==============================] - 41s - loss: 1.3208e-05 - acc: 1.0000 - val_loss: 0.4513 - val_acc: 0.9499\n",
      "Epoch 41/50\n",
      "1836/1836 [==============================] - 41s - loss: 1.2956e-05 - acc: 1.0000 - val_loss: 0.4515 - val_acc: 0.9499\n",
      "Epoch 42/50\n",
      "1836/1836 [==============================] - 41s - loss: 1.2668e-05 - acc: 1.0000 - val_loss: 0.4517 - val_acc: 0.9499\n",
      "Epoch 43/50\n",
      "1836/1836 [==============================] - 41s - loss: 1.2388e-05 - acc: 1.0000 - val_loss: 0.4519 - val_acc: 0.9499\n",
      "Epoch 44/50\n",
      "1836/1836 [==============================] - 41s - loss: 1.2117e-05 - acc: 1.0000 - val_loss: 0.4520 - val_acc: 0.9499\n",
      "Epoch 45/50\n",
      "1836/1836 [==============================] - 41s - loss: 1.1860e-05 - acc: 1.0000 - val_loss: 0.4524 - val_acc: 0.9499\n",
      "Epoch 46/50\n",
      "1836/1836 [==============================] - 41s - loss: 1.1580e-05 - acc: 1.0000 - val_loss: 0.4527 - val_acc: 0.9499\n",
      "Epoch 47/50\n",
      "1820/1836 [============================>.] - ETA: 0s - loss: 1.1402e-05 - acc: 1.0000\n",
      "Epoch 00046: reducing learning rate to 2.0000001313746906e-06.\n",
      "1836/1836 [==============================] - 41s - loss: 1.1315e-05 - acc: 1.0000 - val_loss: 0.4529 - val_acc: 0.9499\n",
      "Epoch 48/50\n",
      "1836/1836 [==============================] - 41s - loss: 1.1102e-05 - acc: 1.0000 - val_loss: 0.4529 - val_acc: 0.9499\n",
      "Epoch 49/50\n",
      "1836/1836 [==============================] - 41s - loss: 1.1053e-05 - acc: 1.0000 - val_loss: 0.4530 - val_acc: 0.9499\n",
      "Epoch 50/50\n",
      "1836/1836 [==============================] - 41s - loss: 1.1000e-05 - acc: 1.0000 - val_loss: 0.4530 - val_acc: 0.9499\n"
     ]
    }
   ],
   "source": [
    "reduce_lr = ReduceLROnPlateau(monitor='val_loss', factor=0.2,\n",
    "              patience=10, verbose=1)\n",
    "results = model.fit(X_train, y_train, epochs=50,\n",
    "                    batch_size=20, validation_split=0.2,\n",
    "                    callbacks=[reduce_lr]\n",
    "                   )"
   ]
  },
  {
   "cell_type": "code",
   "execution_count": 15,
   "metadata": {},
   "outputs": [
    {
     "data": {
      "image/png": "[encoded data removed]",
      "text/plain": [
       "<matplotlib.figure.Figure at 0x7f058ec15eb8>"
      ]
     },
     "metadata": {},
     "output_type": "display_data"
    }
   ],
   "source": [
    "from matplotlib import pyplot as plt\n",
    "plt.subplot(2, 1, 1)\n",
    "plt.plot(results.epoch, np.log(results.history['loss']), label='loss')\n",
    "plt.plot(results.epoch, np.log(results.history['val_loss']), label='val_loss')\n",
    "plt.ylabel('loss')\n",
    "plt.legend()\n",
    "plt.subplot(2, 1, 2)\n",
    "plt.plot(results.epoch, np.log(results.history['acc']), label='acc')\n",
    "plt.plot(results.epoch, np.log(results.history['val_acc']), label='val_acc')\n",
    "plt.ylabel('acc')\n",
    "plt.xlabel('epochs')\n",
    "plt.legend()\n",
    "plt.show()"
   ]
  },
  {
   "cell_type": "code",
   "execution_count": null,
   "metadata": {
    "collapsed": true
   },
   "outputs": [],
   "source": []
  }
 ],
 "metadata": {
  "kernelspec": {
   "display_name": "Python 3",
   "language": "python",
   "name": "python3"
  },
  "language_info": {
   "codemirror_mode": {
    "name": "ipython",
    "version": 3
   },
   "file_extension": ".py",
   "mimetype": "text/x-python",
   "name": "python",
   "nbconvert_exporter": "python",
   "pygments_lexer": "ipython3",
   "version": "3.6.1"
  }
 },
 "nbformat": 4,
 "nbformat_minor": 2
}
