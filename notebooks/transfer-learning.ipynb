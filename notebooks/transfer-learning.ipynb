{
 "cells": [
  {
   "cell_type": "code",
   "execution_count": 1,
   "metadata": {
    "collapsed": true
   },
   "outputs": [],
   "source": [
    "%load_ext autoreload\n",
    "%autoreload 2"
   ]
  },
  {
   "cell_type": "code",
   "execution_count": 2,
   "metadata": {
    "collapsed": true
   },
   "outputs": [],
   "source": [
    "import numpy as np\n",
    "batch_size = 20"
   ]
  },
  {
   "cell_type": "code",
   "execution_count": 3,
   "metadata": {},
   "outputs": [
    {
     "name": "stderr",
     "output_type": "stream",
     "text": [
      "Using TensorFlow backend.\n"
     ]
    }
   ],
   "source": [
    "from keras.models import Model\n",
    "from keras.layers import Input, Dense, Reshape, Flatten\n",
    "from keras.layers import Conv2D, MaxPooling2D, GlobalAveragePooling2D"
   ]
  },
  {
   "cell_type": "code",
   "execution_count": 4,
   "metadata": {
    "collapsed": true
   },
   "outputs": [],
   "source": [
    "from keras.optimizers import Adam\n",
    "from keras.callbacks import ModelCheckpoint"
   ]
  },
  {
   "cell_type": "code",
   "execution_count": 5,
   "metadata": {
    "collapsed": true
   },
   "outputs": [],
   "source": [
    "from keras.applications.vgg16 import VGG16\n",
    "from keras.applications.vgg16 import preprocess_input\n"
   ]
  },
  {
   "cell_type": "code",
   "execution_count": 6,
   "metadata": {
    "collapsed": true
   },
   "outputs": [],
   "source": [
    "train_data = np.load('../data/train_data.npz')\n",
    "X_train, y_train = preprocess_input(train_data['images']), train_data['labels']"
   ]
  },
  {
   "cell_type": "code",
   "execution_count": 11,
   "metadata": {
    "collapsed": true
   },
   "outputs": [],
   "source": [
    "_input = Input(shape=(224, 224, 3))\n",
    "vgg16 = VGG16(include_top=False, weights='imagenet', input_tensor = _input)\n",
    "\n",
    "for idx, layer in vgg16.layers_by_depth.items():\n",
    "    if idx in [1, 2, 3]:\n",
    "        layer[0].trainable = True\n",
    "    else:\n",
    "        layer[0].trainable = False\n",
    "        \n",
    "_layer2 = Flatten()(vgg16.output)\n",
    "_layer3 = Dense(200, activation='relu')(_layer2)\n",
    "_output = Dense(1, activation='sigmoid')(_layer3)\n",
    "\n",
    "model = Model(inputs=[_input], outputs=[_output])\n",
    "optimizer = Adam(lr=0.00025)\n",
    "model.compile(optimizer=optimizer, loss='binary_crossentropy',\n",
    "              metrics=['accuracy'])"
   ]
  },
  {
   "cell_type": "code",
   "execution_count": 12,
   "metadata": {},
   "outputs": [
    {
     "name": "stdout",
     "output_type": "stream",
     "text": [
      "Train on 1836 samples, validate on 459 samples\n",
      "Epoch 1/50\n",
      "1836/1836 [==============================] - 105s - loss: 0.4335 - acc: 0.8693 - val_loss: 0.3466 - val_acc: 0.8344\n",
      "Epoch 2/50\n",
      "1836/1836 [==============================] - 104s - loss: 0.2253 - acc: 0.9188 - val_loss: 0.1110 - val_acc: 0.9586\n",
      "Epoch 3/50\n",
      "1836/1836 [==============================] - 104s - loss: 0.1587 - acc: 0.9499 - val_loss: 0.2033 - val_acc: 0.9325\n",
      "Epoch 4/50\n",
      "1836/1836 [==============================] - 104s - loss: 0.0848 - acc: 0.9733 - val_loss: 0.2077 - val_acc: 0.9455\n",
      "Epoch 5/50\n",
      "1836/1836 [==============================] - 104s - loss: 0.1024 - acc: 0.9722 - val_loss: 0.2252 - val_acc: 0.9412\n",
      "Epoch 6/50\n",
      "1836/1836 [==============================] - 104s - loss: 0.0654 - acc: 0.9777 - val_loss: 0.1880 - val_acc: 0.9259\n",
      "Epoch 7/50\n",
      "1836/1836 [==============================] - 104s - loss: 0.1484 - acc: 0.9532 - val_loss: 0.2555 - val_acc: 0.9434\n",
      "Epoch 8/50\n",
      "1836/1836 [==============================] - 104s - loss: 0.0502 - acc: 0.9831 - val_loss: 0.3058 - val_acc: 0.9564\n",
      "Epoch 9/50\n",
      "1836/1836 [==============================] - 104s - loss: 0.0424 - acc: 0.9902 - val_loss: 0.1348 - val_acc: 0.9695\n",
      "Epoch 10/50\n",
      "1836/1836 [==============================] - 104s - loss: 0.0068 - acc: 0.9978 - val_loss: 0.1227 - val_acc: 0.9651\n",
      "Epoch 11/50\n",
      "1836/1836 [==============================] - 104s - loss: 0.0010 - acc: 1.0000 - val_loss: 0.1298 - val_acc: 0.9586\n",
      "Epoch 12/50\n",
      "1836/1836 [==============================] - 104s - loss: 6.7836e-04 - acc: 1.0000 - val_loss: 0.1318 - val_acc: 0.9608\n",
      "Epoch 13/50\n",
      "1836/1836 [==============================] - 104s - loss: 5.2389e-04 - acc: 1.0000 - val_loss: 0.1323 - val_acc: 0.9673\n",
      "Epoch 14/50\n",
      "1836/1836 [==============================] - 104s - loss: 4.4712e-04 - acc: 1.0000 - val_loss: 0.1324 - val_acc: 0.9695\n",
      "Epoch 15/50\n",
      "1836/1836 [==============================] - 104s - loss: 4.3823e-04 - acc: 1.0000 - val_loss: 0.1325 - val_acc: 0.9695\n",
      "Epoch 16/50\n",
      "1836/1836 [==============================] - 104s - loss: 4.2951e-04 - acc: 1.0000 - val_loss: 0.1328 - val_acc: 0.9695\n",
      "Epoch 17/50\n",
      "1836/1836 [==============================] - 104s - loss: 4.2059e-04 - acc: 1.0000 - val_loss: 0.1328 - val_acc: 0.9695\n",
      "Epoch 18/50\n",
      "1836/1836 [==============================] - 104s - loss: 4.1183e-04 - acc: 1.0000 - val_loss: 0.1330 - val_acc: 0.9695\n",
      "Epoch 19/50\n",
      "1836/1836 [==============================] - 104s - loss: 4.0474e-04 - acc: 1.0000 - val_loss: 0.1331 - val_acc: 0.9695\n",
      "Epoch 20/50\n",
      "1836/1836 [==============================] - 104s - loss: 4.0379e-04 - acc: 1.0000 - val_loss: 0.1331 - val_acc: 0.9695\n",
      "Epoch 21/50\n",
      "1836/1836 [==============================] - 104s - loss: 4.0283e-04 - acc: 1.0000 - val_loss: 0.1331 - val_acc: 0.9695\n",
      "Epoch 22/50\n",
      "1836/1836 [==============================] - 104s - loss: 4.0178e-04 - acc: 1.0000 - val_loss: 0.1331 - val_acc: 0.9695\n",
      "Epoch 23/50\n",
      "1836/1836 [==============================] - 104s - loss: 4.0070e-04 - acc: 1.0000 - val_loss: 0.1331 - val_acc: 0.9695\n",
      "Epoch 24/50\n",
      "1836/1836 [==============================] - 104s - loss: 3.9988e-04 - acc: 1.0000 - val_loss: 0.1331 - val_acc: 0.9695\n",
      "Epoch 25/50\n",
      "1836/1836 [==============================] - 104s - loss: 3.9978e-04 - acc: 1.0000 - val_loss: 0.1331 - val_acc: 0.9695\n",
      "Epoch 26/50\n",
      "1836/1836 [==============================] - 104s - loss: 3.9969e-04 - acc: 1.0000 - val_loss: 0.1331 - val_acc: 0.9695\n",
      "Epoch 27/50\n",
      "1836/1836 [==============================] - 104s - loss: 3.9958e-04 - acc: 1.0000 - val_loss: 0.1331 - val_acc: 0.9695\n",
      "Epoch 28/50\n",
      "1836/1836 [==============================] - 104s - loss: 3.9947e-04 - acc: 1.0000 - val_loss: 0.1331 - val_acc: 0.9695\n",
      "Epoch 29/50\n",
      "1836/1836 [==============================] - 104s - loss: 3.9938e-04 - acc: 1.0000 - val_loss: 0.1331 - val_acc: 0.9695\n",
      "Epoch 30/50\n",
      "1836/1836 [==============================] - 104s - loss: 3.9937e-04 - acc: 1.0000 - val_loss: 0.1331 - val_acc: 0.9695\n",
      "Epoch 31/50\n",
      "1836/1836 [==============================] - 104s - loss: 3.9937e-04 - acc: 1.0000 - val_loss: 0.1331 - val_acc: 0.9695\n",
      "Epoch 32/50\n",
      "1836/1836 [==============================] - 104s - loss: 3.9937e-04 - acc: 1.0000 - val_loss: 0.1331 - val_acc: 0.9695\n",
      "Epoch 33/50\n",
      "1836/1836 [==============================] - 104s - loss: 3.9936e-04 - acc: 1.0000 - val_loss: 0.1331 - val_acc: 0.9695\n",
      "Epoch 34/50\n",
      "1836/1836 [==============================] - 104s - loss: 3.9936e-04 - acc: 1.0000 - val_loss: 0.1331 - val_acc: 0.9695\n",
      "Epoch 35/50\n",
      "1836/1836 [==============================] - 105s - loss: 3.9936e-04 - acc: 1.0000 - val_loss: 0.1331 - val_acc: 0.9695\n",
      "Epoch 36/50\n",
      "1836/1836 [==============================] - 104s - loss: 3.9936e-04 - acc: 1.0000 - val_loss: 0.1331 - val_acc: 0.9695\n",
      "Epoch 37/50\n",
      "1836/1836 [==============================] - 104s - loss: 3.9936e-04 - acc: 1.0000 - val_loss: 0.1331 - val_acc: 0.9695\n",
      "Epoch 38/50\n",
      "1836/1836 [==============================] - 104s - loss: 3.9936e-04 - acc: 1.0000 - val_loss: 0.1331 - val_acc: 0.9695\n",
      "Epoch 39/50\n",
      "1836/1836 [==============================] - 105s - loss: 3.9936e-04 - acc: 1.0000 - val_loss: 0.1331 - val_acc: 0.9695\n",
      "Epoch 40/50\n",
      "1836/1836 [==============================] - 104s - loss: 3.9936e-04 - acc: 1.0000 - val_loss: 0.1331 - val_acc: 0.9695\n",
      "Epoch 41/50\n",
      "1836/1836 [==============================] - 104s - loss: 3.9936e-04 - acc: 1.0000 - val_loss: 0.1331 - val_acc: 0.9695\n",
      "Epoch 42/50\n",
      "1836/1836 [==============================] - 104s - loss: 3.9936e-04 - acc: 1.0000 - val_loss: 0.1331 - val_acc: 0.9695\n",
      "Epoch 43/50\n",
      "1836/1836 [==============================] - 104s - loss: 3.9936e-04 - acc: 1.0000 - val_loss: 0.1331 - val_acc: 0.9695\n",
      "Epoch 44/50\n",
      "1836/1836 [==============================] - 105s - loss: 3.9936e-04 - acc: 1.0000 - val_loss: 0.1331 - val_acc: 0.9695\n",
      "Epoch 45/50\n",
      "1836/1836 [==============================] - 105s - loss: 3.9936e-04 - acc: 1.0000 - val_loss: 0.1331 - val_acc: 0.9695\n",
      "Epoch 46/50\n",
      "1836/1836 [==============================] - 105s - loss: 3.9936e-04 - acc: 1.0000 - val_loss: 0.1331 - val_acc: 0.9695\n",
      "Epoch 47/50\n",
      "1836/1836 [==============================] - 105s - loss: 3.9936e-04 - acc: 1.0000 - val_loss: 0.1331 - val_acc: 0.9695\n",
      "Epoch 48/50\n",
      "1836/1836 [==============================] - 104s - loss: 3.9936e-04 - acc: 1.0000 - val_loss: 0.1331 - val_acc: 0.9695\n",
      "Epoch 49/50\n",
      "1836/1836 [==============================] - 104s - loss: 3.9936e-04 - acc: 1.0000 - val_loss: 0.1331 - val_acc: 0.9695\n",
      "Epoch 50/50\n",
      "1836/1836 [==============================] - 105s - loss: 3.9936e-04 - acc: 1.0000 - val_loss: 0.1331 - val_acc: 0.9695\n"
     ]
    }
   ],
   "source": [
    "from keras.callbacks import ReduceLROnPlateau\n",
    "\n",
    "lrdecay = ReduceLROnPlateau(patience=5)\n",
    "\n",
    "results = model.fit(X_train, y_train, epochs=50,\n",
    "                    batch_size=20, validation_split=0.2,\n",
    "                    callbacks=[lrdecay]\n",
    "                   )"
   ]
  },
  {
   "cell_type": "code",
   "execution_count": 13,
   "metadata": {},
   "outputs": [
    {
     "data": {
      "image/png": "[encoded data removed]",
      "text/plain": [
       "<matplotlib.figure.Figure at 0x7f4dd1fe1748>"
      ]
     },
     "metadata": {},
     "output_type": "display_data"
    }
   ],
   "source": [
    "from matplotlib import pyplot as plt\n",
    "plt.subplot(2, 1, 1)\n",
    "plt.plot(results.epoch, np.log(results.history['loss']), label='loss')\n",
    "plt.plot(results.epoch, np.log(results.history['val_loss']), label='val_loss')\n",
    "plt.ylabel('loss')\n",
    "plt.legend()\n",
    "plt.subplot(2, 1, 2)\n",
    "plt.plot(results.epoch, np.log(results.history['acc']), label='acc')\n",
    "plt.plot(results.epoch, np.log(results.history['val_acc']), label='val_acc')\n",
    "plt.ylabel('acc')\n",
    "plt.xlabel('epochs')\n",
    "plt.legend()\n",
    "plt.show()"
   ]
  },
  {
   "cell_type": "code",
   "execution_count": null,
   "metadata": {
    "collapsed": true
   },
   "outputs": [],
   "source": []
  }
 ],
 "metadata": {
  "kernelspec": {
   "display_name": "Python 3",
   "language": "python",
   "name": "python3"
  },
  "language_info": {
   "codemirror_mode": {
    "name": "ipython",
    "version": 3
   },
   "file_extension": ".py",
   "mimetype": "text/x-python",
   "name": "python",
   "nbconvert_exporter": "python",
   "pygments_lexer": "ipython3",
   "version": "3.6.1"
  }
 },
 "nbformat": 4,
 "nbformat_minor": 2
}
